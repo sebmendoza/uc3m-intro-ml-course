{
  "cells": [
    {
      "cell_type": "markdown",
      "metadata": {
        "id": "mM5A5RD_-ArJ"
      },
      "source": [
        "Load regression data"
      ]
    },
    {
      "cell_type": "code",
      "execution_count": 1,
      "metadata": {
        "colab": {
          "base_uri": "https://localhost:8080/"
        },
        "id": "9DxpU36-VPJN",
        "outputId": "e679c403-8fdb-45e5-b263-062995c67c3a"
      },
      "outputs": [
        {
          "name": "stdout",
          "output_type": "stream",
          "text": [
            "['MedInc', 'HouseAge', 'AveRooms', 'AveBedrms', 'Population', 'AveOccup', 'Latitude', 'Longitude']\n",
            "['MedHouseVal']\n"
          ]
        }
      ],
      "source": [
        "import matplotlib.pyplot as plt\n",
        "import numpy as np\n",
        "from sklearn.datasets import fetch_california_housing\n",
        "from scipy.stats import sem\n",
        "\n",
        "housing = fetch_california_housing()\n",
        "print(housing.feature_names)\n",
        "print(housing.target_names)\n",
        "\n",
        "X = housing.data\n",
        "y = housing.target\n",
        "\n"
      ]
    },
    {
      "cell_type": "markdown",
      "metadata": {
        "id": "mvEsz2IlGRRy"
      },
      "source": [
        "X, at this point, is a numpy matrix (just numbers)"
      ]
    },
    {
      "cell_type": "code",
      "execution_count": 2,
      "metadata": {
        "colab": {
          "base_uri": "https://localhost:8080/"
        },
        "id": "pXYAjjnSATdx",
        "outputId": "68f66c92-0d79-4c21-a7ee-f13546b66dbc"
      },
      "outputs": [
        {
          "data": {
            "text/plain": [
              "array([[ 8.3252 , 41. , 6.98412698, ..., 2.55555556,\n",
              " 37.88 , -122.23 ],\n",
              " [ 8.3014 , 21. , 6.23813708, ..., 2.10984183,\n",
              " 37.86 , -122.22 ],\n",
              " [ 7.2574 , 52. , 8.28813559, ..., 2.80225989,\n",
              " 37.85 , -122.24 ],\n",
              " ...,\n",
              " [ 1.7 , 17. , 5.20554273, ..., 2.3256351 ,\n",
              " 39.43 , -121.22 ],\n",
              " [ 1.8672 , 18. , 5.32951289, ..., 2.12320917,\n",
              " 39.43 , -121.32 ],\n",
              " [ 2.3886 , 16. , 5.25471698, ..., 2.61698113,\n",
              " 39.37 , -121.24 ]])"
            ]
          },
          "execution_count": 2,
          "metadata": {},
          "output_type": "execute_result"
        }
      ],
      "source": [
        "X"
      ]
    },
    {
      "cell_type": "markdown",
      "metadata": {
        "id": "y_7NxSbVHrSB"
      },
      "source": [
        "The reason why Califronia X data is a numpy matrix, with no column names, is because the California dataset is inside the scikit-learn library, already prepared for use. However, in more real situations (like the assignment), we read the data from a file into a Pandas dataframe. In that case, columns would have names and values may not be numeric. In order to simulate a real situation more closely, we are going to put the names of the columns by hand (notice that if data is read from a file into a Pandas dataframe, as you do in the assignments, you don't have to do this)!!!"
      ]
    },
    {
      "cell_type": "code",
      "execution_count": 3,
      "metadata": {
        "id": "CMomQ9fYIZjy"
      },
      "outputs": [],
      "source": [
        "import pandas as pd\n",
        "X = pd.DataFrame(X)\n",
        "X.columns = housing.feature_names"
      ]
    },
    {
      "cell_type": "markdown",
      "metadata": {
        "id": "SnVtVPzPI17a"
      },
      "source": [
        "Now, X is a dataframe with column names"
      ]
    },
    {
      "cell_type": "code",
      "execution_count": 4,
      "metadata": {
        "colab": {
          "base_uri": "https://localhost:8080/",
          "height": 424
        },
        "id": "eqhuEgulI4Qa",
        "outputId": "e90cfd35-38dc-40a9-a9f9-a8e8d342fdc6"
      },
      "outputs": [
        {
          "data": {
            "text/html": [
              "\n",
              "\n",
              "\n",
              " \n",
              " \n",
              " \n",
              " \n",
              " \n",
              " \n",
              " \n",
              " \n",
              " \n",
              " \n",
              " \n",
              " \n",
              " \n",
              " \n",
              " \n",
              " \n",
              " \n",
              " \n",
              " \n",
              " \n",
              " \n",
              " \n",
              " \n",
              " \n",
              " \n",
              " \n",
              " \n",
              " \n",
              " \n",
              " \n",
              " \n",
              " \n",
              " \n",
              " \n",
              " \n",
              " \n",
              " \n",
              " \n",
              " \n",
              " \n",
              " \n",
              " \n",
              " \n",
              " \n",
              " \n",
              " \n",
              " \n",
              " \n",
              " \n",
              " \n",
              " \n",
              " \n",
              " \n",
              " \n",
              " \n",
              " \n",
              " \n",
              " \n",
              " \n",
              " \n",
              " \n",
              " \n",
              " \n",
              " \n",
              " \n",
              " \n",
              " \n",
              " \n",
              " \n",
              " \n",
              " \n",
              " \n",
              " \n",
              " \n",
              " \n",
              " \n",
              " \n",
              " \n",
              " \n",
              " \n",
              " \n",
              " \n",
              " \n",
              " \n",
              " \n",
              " \n",
              " \n",
              " \n",
              " \n",
              " \n",
              " \n",
              " \n",
              " \n",
              " \n",
              " \n",
              " \n",
              " \n",
              " \n",
              " \n",
              " \n",
              " \n",
              " \n",
              " \n",
              " \n",
              " \n",
              " \n",
              " \n",
              " \n",
              " \n",
              " \n",
              " \n",
              " \n",
              " \n",
              " \n",
              " \n",
              " \n",
              " \n",
              " \n",
              " \n",
              " \n",
              " \n",
              " \n",
              " \n",
              " \n",
              " \n",
              " \n",
              " \n",
              " \n",
              " \n",
              " \n",
              " \n",
              " \n",
              " \n",
              " \n",
              " \n",
              " \n",
              "20640 rows × 8 columns\n",
              ""
            ],
            "text/plain": [
              " MedInc HouseAge AveRooms AveBedrms Population AveOccup Latitude \\\n",
              "0 8.3252 41.0 6.984127 1.023810 322.0 2.555556 37.88 \n",
              "1 8.3014 21.0 6.238137 0.971880 2401.0 2.109842 37.86 \n",
              "2 7.2574 52.0 8.288136 1.073446 496.0 2.802260 37.85 \n",
              "3 5.6431 52.0 5.817352 1.073059 558.0 2.547945 37.85 \n",
              "4 3.8462 52.0 6.281853 1.081081 565.0 2.181467 37.85 \n",
              "... ... ... ... ... ... ... ... \n",
              "20635 1.5603 25.0 5.045455 1.133333 845.0 2.560606 39.48 \n",
              "20636 2.5568 18.0 6.114035 1.315789 356.0 3.122807 39.49 \n",
              "20637 1.7000 17.0 5.205543 1.120092 1007.0 2.325635 39.43 \n",
              "20638 1.8672 18.0 5.329513 1.171920 741.0 2.123209 39.43 \n",
              "20639 2.3886 16.0 5.254717 1.162264 1387.0 2.616981 39.37 \n",
              "\n",
              " Longitude \n",
              "0 -122.23 \n",
              "1 -122.22 \n",
              "2 -122.24 \n",
              "3 -122.25 \n",
              "4 -122.25 \n",
              "... ... \n",
              "20635 -121.09 \n",
              "20636 -121.21 \n",
              "20637 -121.22 \n",
              "20638 -121.32 \n",
              "20639 -121.24 \n",
              "\n",
              "[20640 rows x 8 columns]"
            ]
          },
          "execution_count": 4,
          "metadata": {},
          "output_type": "execute_result"
        }
      ],
      "source": [
        "X"
      ]
    },
    {
      "cell_type": "code",
      "execution_count": 5,
      "metadata": {
        "id": "9vqBe4Sn-ArM"
      },
      "outputs": [],
      "source": [
        "# Split into train and test\n",
        "from sklearn.model_selection import train_test_split\n",
        "\n",
        "X_train, X_test, y_train, y_test = train_test_split(X,y, test_size=1/3, random_state=42)"
      ]
    },
    {
      "cell_type": "markdown",
      "metadata": {
        "id": "yLx7YYCA-ArM"
      },
      "source": [
        "Define pipeline for KNN (with scaling)"
      ]
    },
    {
      "cell_type": "code",
      "execution_count": 6,
      "metadata": {
        "id": "6yM8-46IVaAV"
      },
      "outputs": [],
      "source": [
        "from sklearn.neighbors import KNeighborsRegressor\n",
        "from sklearn.pipeline import Pipeline\n",
        "from sklearn.preprocessing import StandardScaler\n",
        "scaler = StandardScaler()\n",
        "knn = KNeighborsRegressor()\n",
        "\n",
        "pipe_scale_knn = Pipeline([\n",
        " ('scale', scaler),\n",
        " ('knn', knn) \n",
        "])"
      ]
    },
    {
      "cell_type": "markdown",
      "metadata": {},
      "source": [
        "This pipe that we have created would allow us to continue estimating the model as usual. For instance with hold out only and not hyperparameter tunning:"
      ]
    },
    {
      "cell_type": "code",
      "execution_count": 7,
      "metadata": {},
      "outputs": [
        {
          "data": {
            "text/html": [
              "Pipeline(steps=[('scale', StandardScaler()), ('knn', KNeighborsRegressor())])"
            ],
            "text/plain": [
              "Pipeline(steps=[('scale', StandardScaler()), ('knn', KNeighborsRegressor())])"
            ]
          },
          "execution_count": 7,
          "metadata": {},
          "output_type": "execute_result"
        }
      ],
      "source": [
        "pipe_scale_knn.fit(X_train,y_train)"
      ]
    },
    {
      "cell_type": "code",
      "execution_count": 8,
      "metadata": {},
      "outputs": [
        {
          "data": {
            "text/plain": [
              "0.6638490078957968"
            ]
          },
          "execution_count": 8,
          "metadata": {},
          "output_type": "execute_result"
        }
      ],
      "source": [
        "from sklearn.metrics import mean_squared_error\n",
        "\n",
        "predictions_test_scaled_knn = pipe_scale_knn.predict(X_test)\n",
        "np.sqrt(mean_squared_error(y_test, predictions_test_scaled_knn))"
      ]
    },
    {
      "cell_type": "markdown",
      "metadata": {
        "id": "tXh4nIVJ-ArM"
      },
      "source": [
        "In this particular case we do not have so mnay features, but still we may one to see how feature selection works, specifying the 3 most important features, and select them according to the f_regression criterion."
      ]
    },
    {
      "cell_type": "code",
      "execution_count": 9,
      "metadata": {
        "id": "fmrxSynhViOG"
      },
      "outputs": [],
      "source": [
        "from sklearn.feature_selection import SelectKBest, f_regression\n",
        "\n",
        "scaler = StandardScaler()\n",
        "selector = SelectKBest(f_regression, k=3)\n",
        "knn = KNeighborsRegressor()\n",
        "\n",
        "pipe_select_scale_knn = Pipeline([\n",
        " ('scale', scaler),\n",
        " ('select', selector),\n",
        " ('knn', knn)])"
      ]
    },
    {
      "cell_type": "markdown",
      "metadata": {
        "id": "pTlV3znk-ArN"
      },
      "source": [
        "The model is trained now"
      ]
    },
    {
      "cell_type": "code",
      "execution_count": 10,
      "metadata": {
        "colab": {
          "base_uri": "https://localhost:8080/"
        },
        "id": "HAGCNO_3XCbW",
        "outputId": "afce5d85-ecce-4974-db85-28763cbe0bba"
      },
      "outputs": [
        {
          "data": {
            "text/html": [
              "Pipeline(steps=[('scale', StandardScaler()),\n",
              "                ('select',\n",
              "                 SelectKBest(k=3,\n",
              "                             score_func=<function f_regression at 0x00000180AA2733A0>)),\n",
              "                ('knn', KNeighborsRegressor())])"
            ],
            "text/plain": [
              "Pipeline(steps=[('scale', StandardScaler()),\n",
              " ('select',\n",
              " SelectKBest(k=3,\n",
              " score_func=)),\n",
              " ('knn', KNeighborsRegressor())])"
            ]
          },
          "execution_count": 10,
          "metadata": {},
          "output_type": "execute_result"
        }
      ],
      "source": [
        "pipe_select_scale_knn.fit(X_train,y_train)"
      ]
    },
    {
      "cell_type": "markdown",
      "metadata": {
        "id": "NEoKeSCC-ArO"
      },
      "source": [
        "We can even check which features were selected."
      ]
    },
    {
      "cell_type": "code",
      "execution_count": 11,
      "metadata": {
        "colab": {
          "base_uri": "https://localhost:8080/"
        },
        "id": "Qeh0rXEaXtS7",
        "outputId": "3a29efd5-5a0a-47e9-a6a8-984bc45c5770"
      },
      "outputs": [
        {
          "data": {
            "text/plain": [
              "{'scale': StandardScaler(),\n",
              " 'select': SelectKBest(k=3, score_func=),\n",
              " 'knn': KNeighborsRegressor()}"
            ]
          },
          "execution_count": 11,
          "metadata": {},
          "output_type": "execute_result"
        }
      ],
      "source": [
        "pipe_select_scale_knn.named_steps"
      ]
    },
    {
      "cell_type": "code",
      "execution_count": 12,
      "metadata": {
        "colab": {
          "base_uri": "https://localhost:8080/"
        },
        "id": "0kCjkdkVYhmm",
        "outputId": "826d038b-b5f6-423c-cb4c-8d35f7f3983b"
      },
      "outputs": [
        {
          "name": "stdout",
          "output_type": "stream",
          "text": [
            "Features selected: [ True False True False False False True False]\n",
            "Locations where features selected: (array([0, 2, 6], dtype=int64),)\n",
            "In Scikit-learn 1.x, we can even get the feature names after selection: ['MedInc' 'AveRooms' 'Latitude']\n"
          ]
        }
      ],
      "source": [
        "import numpy as np\n",
        "print(f\"Features selected: {pipe_select_scale_knn.named_steps['select'].get_support()}\")\n",
        "\n",
        "print(f\"Locations where features selected: {np.where(pipe_select_scale_knn.named_steps['select'].get_support())}\")\n",
        "\n",
        "feature_names_before_selection = pipe_select_scale_knn.named_steps['scale'].get_feature_names_out()\n",
        "print(f\"In Scikit-learn 1.x, we can even get the feature names after selection: {pipe_select_scale_knn.named_steps['select'].get_feature_names_out(feature_names_before_selection)}\")\n",
        "\n"
      ]
    },
    {
      "cell_type": "markdown",
      "metadata": {
        "id": "_iBThvqa-ArP"
      },
      "source": [
        "We can evaluate the model with the selected features on the testing partition:"
      ]
    },
    {
      "cell_type": "code",
      "execution_count": 13,
      "metadata": {
        "colab": {
          "base_uri": "https://localhost:8080/"
        },
        "id": "yzzhDjhn-ArQ",
        "outputId": "3cb4d0ea-32de-469f-9913-f7268bb3bd5c"
      },
      "outputs": [
        {
          "data": {
            "text/plain": [
              "0.79521419292351"
            ]
          },
          "execution_count": 13,
          "metadata": {},
          "output_type": "execute_result"
        }
      ],
      "source": [
        "from sklearn.metrics import mean_squared_error\n",
        "\n",
        "predictions_test = pipe_select_scale_knn.predict(X_test)\n",
        "np.sqrt(mean_squared_error(y_test, predictions_test))"
      ]
    },
    {
      "cell_type": "markdown",
      "metadata": {},
      "source": [
        "QUESTION: Which method performs better, the one with feature selection or the one without?"
      ]
    },
    {
      "cell_type": "markdown",
      "metadata": {
        "id": "t2iKXgMB-ArQ"
      },
      "source": [
        "We have treated Feature Selection as a step of the preprocessing pipe. But the number of features selected could be treated as a parameter to tune as well. Let's select the optimal number of features using HPO (grid search)"
      ]
    },
    {
      "cell_type": "code",
      "execution_count": 14,
      "metadata": {
        "id": "2JrOj3ltYsxK"
      },
      "outputs": [],
      "source": [
        "from sklearn.feature_selection import SelectKBest, f_regression\n",
        "from sklearn.model_selection import GridSearchCV\n",
        "from sklearn.model_selection import KFold\n",
        "\n",
        "scaler = StandardScaler()\n",
        "selector = SelectKBest(f_regression)\n",
        "knn = KNeighborsRegressor()\n",
        "\n",
        "pipe_select_scale_knn = Pipeline([\n",
        " ('scale', scaler),\n",
        " ('select', selector),\n",
        " ('knn', knn)])\n",
        "\n",
        "param_grid = {'select__k': list(range(1,8))}\n",
        "inner = KFold(n_splits=3, shuffle=True, random_state = 42 )\n",
        "tune_select_scale_knn = GridSearchCV(pipe_select_scale_knn,\n",
        " param_grid,\n",
        " scoring=\"neg_mean_squared_error\",\n",
        " cv=inner\n",
        " )\n"
      ]
    },
    {
      "cell_type": "code",
      "execution_count": 15,
      "metadata": {
        "colab": {
          "base_uri": "https://localhost:8080/"
        },
        "id": "0_ArMsKrZc-R",
        "outputId": "235bbd45-631e-40de-ddf5-e73a760829fb"
      },
      "outputs": [
        {
          "data": {
            "text/html": [
              "GridSearchCV(cv=KFold(n_splits=3, random_state=42, shuffle=True),\n",
              "             estimator=Pipeline(steps=[('scale', StandardScaler()),\n",
              "                                       ('select',\n",
              "                                        SelectKBest(score_func=<function f_regression at 0x00000180AA2733A0>)),\n",
              "                                       ('knn', KNeighborsRegressor())]),\n",
              "             param_grid={'select__k': [1, 2, 3, 4, 5, 6, 7]},\n",
              "             scoring='neg_mean_squared_error')"
            ],
            "text/plain": [
              "GridSearchCV(cv=KFold(n_splits=3, random_state=42, shuffle=True),\n",
              " estimator=Pipeline(steps=[('scale', StandardScaler()),\n",
              " ('select',\n",
              " SelectKBest(score_func=)),\n",
              " ('knn', KNeighborsRegressor())]),\n",
              " param_grid={'select__k': [1, 2, 3, 4, 5, 6, 7]},\n",
              " scoring='neg_mean_squared_error')"
            ]
          },
          "execution_count": 15,
          "metadata": {},
          "output_type": "execute_result"
        }
      ],
      "source": [
        "np.random.seed(42)\n",
        "tune_select_scale_knn.fit(X_train, y_train)"
      ]
    },
    {
      "cell_type": "markdown",
      "metadata": {
        "id": "6rdvQaIg-ArR"
      },
      "source": [
        "It seems that feature selection considers that 6 out of the 8 features are important."
      ]
    },
    {
      "cell_type": "code",
      "execution_count": 16,
      "metadata": {
        "colab": {
          "base_uri": "https://localhost:8080/"
        },
        "id": "Yw2eiid5Zdov",
        "outputId": "a28e5498-be39-4eca-ccc1-2bc7219fc239"
      },
      "outputs": [
        {
          "data": {
            "text/plain": [
              "({'select__k': 6}, 0.6580234920181691)"
            ]
          },
          "execution_count": 16,
          "metadata": {},
          "output_type": "execute_result"
        }
      ],
      "source": [
        "import numpy as np\n",
        "tune_select_scale_knn.best_params_, np.sqrt(-tune_select_scale_knn.best_score_)"
      ]
    },
    {
      "cell_type": "markdown",
      "metadata": {
        "id": "ZMl1O-K2LV6D"
      },
      "source": [
        "We can also see the feature names after feature selection"
      ]
    },
    {
      "cell_type": "code",
      "execution_count": 17,
      "metadata": {
        "colab": {
          "base_uri": "https://localhost:8080/"
        },
        "id": "V0w3vu6ULaqT",
        "outputId": "3ae18fa6-65f7-4564-9e4e-ebc5dd6f579f"
      },
      "outputs": [
        {
          "name": "stdout",
          "output_type": "stream",
          "text": [
            "Features selected: [ True True True True False False True True]\n",
            "Locations where features selected: (array([0, 1, 2, 3, 6, 7], dtype=int64),)\n",
            "In Scikit-learn 1.x, we can even get the feature names after selection: ['MedInc' 'HouseAge' 'AveRooms' 'AveBedrms' 'Latitude' 'Longitude']\n"
          ]
        }
      ],
      "source": [
        "trained_pipeline = tune_select_scale_knn.best_estimator_\n",
        "\n",
        "print(f\"Features selected: {trained_pipeline.named_steps['select'].get_support()}\")\n",
        "\n",
        "print(f\"Locations where features selected: {np.where(trained_pipeline.named_steps['select'].get_support())}\")\n",
        "\n",
        "# Feature names before selection (i.e. after scaling)\n",
        "feature_names_before_selection = trained_pipeline.named_steps['scale'].get_feature_names_out()\n",
        "print(f\"In Scikit-learn 1.x, we can even get the feature names after selection: {trained_pipeline.named_steps['select'].get_feature_names_out(feature_names_before_selection)}\")\n",
        "\n"
      ]
    },
    {
      "cell_type": "markdown",
      "metadata": {
        "id": "OEl48pcE-ArS"
      },
      "source": [
        "We can also check the performance for every number of features:"
      ]
    },
    {
      "cell_type": "code",
      "execution_count": 18,
      "metadata": {
        "colab": {
          "base_uri": "https://localhost:8080/"
        },
        "id": "4Sg0m5FOa9JA",
        "outputId": "034f2e09-7e53-4fe2-b8b9-d12fdb56d673"
      },
      "outputs": [
        {
          "name": "stdout",
          "output_type": "stream",
          "text": [
            "[(1, 0.8106409534069218),\n",
            " (2, 0.717739642930112),\n",
            " (3, 0.6212209348833853),\n",
            " (4, 0.5818470836253039),\n",
            " (5, 0.48198802771896315),\n",
            " (6, 0.43299491604778545),\n",
            " (7, 0.4419300482926026)]\n"
          ]
        }
      ],
      "source": [
        "from pprint import pprint\n",
        "\n",
        "pprint(list(zip(tune_select_scale_knn.cv_results_['param_select__k'].data, -tune_select_scale_knn.cv_results_['mean_test_score'])))\n"
      ]
    },
    {
      "cell_type": "markdown",
      "metadata": {
        "id": "tTxLRxOE-ArS"
      },
      "source": [
        "We can plot these results."
      ]
    },
    {
      "cell_type": "code",
      "execution_count": 19,
      "metadata": {
        "colab": {
          "base_uri": "https://localhost:8080/",
          "height": 279
        },
        "id": "zNpXlCmP-ArS",
        "outputId": "05dfb53f-2d57-4171-b7c8-fd328666cda2"
      },
      "outputs": [
        {
          "data": {
            "image/png": "[encoded data removed]",
            "text/plain": [
              ""
            ]
          },
          "metadata": {},
          "output_type": "display_data"
        }
      ],
      "source": [
        "import matplotlib.pyplot as plt\n",
        "plt.plot(tune_select_scale_knn.cv_results_['param_select__k'].data, -tune_select_scale_knn.cv_results_['mean_test_score'])\n",
        "plt.ylabel('MSE')\n",
        "plt.xlabel('Number of features')\n",
        "plt.show()"
      ]
    },
    {
      "cell_type": "markdown",
      "metadata": {
        "id": "I-8Ba6Ef-ArT"
      },
      "source": [
        "But the important result is the evaluation of the model on test"
      ]
    },
    {
      "cell_type": "code",
      "execution_count": 20,
      "metadata": {
        "colab": {
          "base_uri": "https://localhost:8080/"
        },
        "id": "xJaDHbfl-ArT",
        "outputId": "ccb2b96f-3846-48c7-bf0b-2445e37d0800"
      },
      "outputs": [
        {
          "data": {
            "text/plain": [
              "0.6657180265114533"
            ]
          },
          "execution_count": 20,
          "metadata": {},
          "output_type": "execute_result"
        }
      ],
      "source": [
        "from sklearn.metrics import mean_squared_error\n",
        "\n",
        "predictions_test = tune_select_scale_knn.predict(X_test)\n",
        "np.sqrt(mean_squared_error(y_test, predictions_test))"
      ]
    },
    {
      "cell_type": "code",
      "execution_count": null,
      "metadata": {
        "id": "c7M1R06b-ArV"
      },
      "outputs": [],
      "source": []
    }
  ],
  "metadata": {
    "colab": {
      "collapsed_sections": [],
      "provenance": []
    },
    "interpreter": {
      "hash": "b3ba2566441a7c06988d0923437866b63cedc61552a5af99d1f4fb67d367b25f"
    },
    "kernelspec": {
      "display_name": "Python 3 (ipykernel)",
      "language": "python",
      "name": "python3"
    },
    "language_info": {
      "codemirror_mode": {
        "name": "ipython",
        "version": 3
      },
      "file_extension": ".py",
      "mimetype": "text/x-python",
      "name": "python",
      "nbconvert_exporter": "python",
      "pygments_lexer": "ipython3",
      "version": "3.8.3"
    }
  },
  "nbformat": 4,
  "nbformat_minor": 4
}
